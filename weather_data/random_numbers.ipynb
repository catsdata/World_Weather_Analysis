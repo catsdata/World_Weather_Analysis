{
 "cells": [
  {
   "cell_type": "code",
   "execution_count": 1,
   "id": "49edc61b",
   "metadata": {},
   "outputs": [],
   "source": [
    "# Import the random module.\n",
    "import random\n",
    "import numpy as np"
   ]
  },
  {
   "cell_type": "code",
   "execution_count": 2,
   "id": "617a3a5c",
   "metadata": {},
   "outputs": [
    {
     "data": {
      "text/plain": [
       "78"
      ]
     },
     "execution_count": 2,
     "metadata": {},
     "output_type": "execute_result"
    }
   ],
   "source": [
    "random.randint(-90, 90)"
   ]
  },
  {
   "cell_type": "code",
   "execution_count": 3,
   "id": "1b76f022",
   "metadata": {},
   "outputs": [
    {
     "data": {
      "text/plain": [
       "0.4079064594803047"
      ]
     },
     "execution_count": 3,
     "metadata": {},
     "output_type": "execute_result"
    }
   ],
   "source": [
    "random.random()"
   ]
  },
  {
   "cell_type": "code",
   "execution_count": 4,
   "id": "07db7e20",
   "metadata": {},
   "outputs": [
    {
     "data": {
      "text/plain": [
       "[-60.04368836135207,\n",
       " -8.964900471488223,\n",
       " 42.98356618048485,\n",
       " -40.77126200508408,\n",
       " 78.90132184644008,\n",
       " 75.39324166117615,\n",
       " -50.91278441656661,\n",
       " -8.867320105061495,\n",
       " -9.06929734197382,\n",
       " -8.341231499090163]"
      ]
     },
     "execution_count": 4,
     "metadata": {},
     "output_type": "execute_result"
    }
   ],
   "source": [
    "x = 1\n",
    "latitudes = []\n",
    "while x < 11:\n",
    "    random_lat = random.randint(-90, 89) + random.random()\n",
    "    latitudes.append(random_lat)\n",
    "    x += 1\n",
    "latitudes"
   ]
  },
  {
   "cell_type": "code",
   "execution_count": 5,
   "id": "2e1d737f",
   "metadata": {},
   "outputs": [
    {
     "data": {
      "text/plain": [
       "-38"
      ]
     },
     "execution_count": 5,
     "metadata": {},
     "output_type": "execute_result"
    }
   ],
   "source": [
    "random.randrange(-90, 90, step=1)"
   ]
  },
  {
   "cell_type": "code",
   "execution_count": 6,
   "id": "6396b97f",
   "metadata": {},
   "outputs": [
    {
     "data": {
      "text/plain": [
       "6"
      ]
     },
     "execution_count": 6,
     "metadata": {},
     "output_type": "execute_result"
    }
   ],
   "source": [
    "random.randrange(-90, 90, step=3)"
   ]
  },
  {
   "cell_type": "code",
   "execution_count": 7,
   "id": "0dcc371a",
   "metadata": {},
   "outputs": [
    {
     "data": {
      "text/plain": [
       "-88.91791600539649"
      ]
     },
     "execution_count": 7,
     "metadata": {},
     "output_type": "execute_result"
    }
   ],
   "source": [
    "random.uniform(-90, 90)"
   ]
  },
  {
   "cell_type": "code",
   "execution_count": 8,
   "id": "5ee09455",
   "metadata": {},
   "outputs": [
    {
     "data": {
      "text/plain": [
       "-0.4008416059550086"
      ]
     },
     "execution_count": 8,
     "metadata": {},
     "output_type": "execute_result"
    }
   ],
   "source": [
    "np.random.uniform(-90.000, 90.000)"
   ]
  },
  {
   "cell_type": "code",
   "execution_count": 9,
   "id": "1fd06d86",
   "metadata": {},
   "outputs": [
    {
     "data": {
      "text/plain": [
       "23.609009723114298"
      ]
     },
     "execution_count": 9,
     "metadata": {},
     "output_type": "execute_result"
    }
   ],
   "source": [
    "np.random.uniform(low=-90, high=90)"
   ]
  },
  {
   "cell_type": "code",
   "execution_count": 10,
   "id": "5ace2574",
   "metadata": {},
   "outputs": [
    {
     "data": {
      "text/plain": [
       "array([-41.54412815,  18.84509061,  54.41053668,  33.47096811,\n",
       "         7.02242667,  -1.92107103,  57.12719331,  27.31484409,\n",
       "       -10.02435971,  64.98265875, -65.59321723,  -8.70764045,\n",
       "       -74.18300645,  31.62858933,  81.44156624,  42.08987482,\n",
       "       -36.57061805,  88.06776281, -76.38710495,  30.67529485,\n",
       "        10.95248232,  30.72508224,   2.8698323 ,  81.93729532,\n",
       "        38.22046195, -82.02603435, -11.71641542,  80.97489379,\n",
       "       -51.72335376,  49.18656305,  34.37122618, -49.03778137,\n",
       "        13.97697908,  64.76247166,  76.41323815,   3.68833451,\n",
       "       -18.6166469 , -27.76944363,  36.61479707, -10.89547697,\n",
       "        16.1422446 ,  55.86802678, -82.29833565,   5.22381665,\n",
       "        56.90095627, -37.49465393, -57.88837906,   5.21928   ,\n",
       "        55.3857723 , -30.31009524])"
      ]
     },
     "execution_count": 10,
     "metadata": {},
     "output_type": "execute_result"
    }
   ],
   "source": [
    "np.random.uniform(-90.000, 90.000, size=50)"
   ]
  },
  {
   "cell_type": "code",
   "execution_count": 11,
   "id": "5a020a9a",
   "metadata": {},
   "outputs": [],
   "source": [
    "# Import timeit.\n",
    "import timeit"
   ]
  },
  {
   "cell_type": "code",
   "execution_count": 12,
   "id": "a056299e",
   "metadata": {},
   "outputs": [
    {
     "name": "stdout",
     "output_type": "stream",
     "text": [
      "18 µs ± 779 ns per loop (mean ± std. dev. of 7 runs, 10000 loops each)\n"
     ]
    }
   ],
   "source": [
    "%timeit np.random.uniform(-90.000, 90.000, size=1500)"
   ]
  },
  {
   "cell_type": "code",
   "execution_count": 13,
   "id": "c03657e3",
   "metadata": {},
   "outputs": [
    {
     "name": "stdout",
     "output_type": "stream",
     "text": [
      "2.48 ms ± 199 µs per loop (mean ± std. dev. of 7 runs, 100 loops each)\n"
     ]
    }
   ],
   "source": [
    "def latitudes(size):\n",
    "    latitudes = []\n",
    "    x = 0\n",
    "    while x < (size):\n",
    "        random_lat = random.randint(-90, 90) + random.random()\n",
    "        latitudes.append(random_lat)\n",
    "        x += 1\n",
    "    return latitudes\n",
    "# Call the function with 1500.\n",
    "%timeit latitudes(1500)"
   ]
  },
  {
   "cell_type": "code",
   "execution_count": null,
   "id": "8d4ca037",
   "metadata": {},
   "outputs": [],
   "source": []
  }
 ],
 "metadata": {
  "kernelspec": {
   "display_name": "PythonData",
   "language": "python",
   "name": "pythondata"
  },
  "language_info": {
   "codemirror_mode": {
    "name": "ipython",
    "version": 3
   },
   "file_extension": ".py",
   "mimetype": "text/x-python",
   "name": "python",
   "nbconvert_exporter": "python",
   "pygments_lexer": "ipython3",
   "version": "3.7.11"
  }
 },
 "nbformat": 4,
 "nbformat_minor": 5
}
